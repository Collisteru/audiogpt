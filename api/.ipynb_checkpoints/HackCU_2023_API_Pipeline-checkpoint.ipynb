{
 "cells": [
  {
   "cell_type": "code",
   "execution_count": null,
   "metadata": {},
   "outputs": [],
   "source": [
    "!jupyter kernelspec list"
   ]
  },
  {
   "cell_type": "code",
   "execution_count": 1,
   "metadata": {
    "id": "AdE95UH75egz"
   },
   "outputs": [],
   "source": [
    "# Start with setting up the speech to text with Whisper API"
   ]
  },
  {
   "cell_type": "code",
   "execution_count": null,
   "metadata": {
    "colab": {
     "base_uri": "https://localhost:8080/"
    },
    "id": "WfKfpTu76GJU",
    "outputId": "5d77fb2f-abb2-465d-9983-80e663d91fa2"
   },
   "outputs": [],
   "source": [
    "!pip install git+https://github.com/openai/whisper.git \n",
    "# Install Whisper"
   ]
  },
  {
   "cell_type": "code",
   "execution_count": null,
   "metadata": {
    "colab": {
     "base_uri": "https://localhost:8080/"
    },
    "id": "73mhJggt8y-q",
    "outputId": "7c03ec8c-5c5e-4d90-bea5-e67d1c0b06dd"
   },
   "outputs": [],
   "source": [
    "%%bash\n",
    "# Audio Imports\n",
    "# libav\n",
    "apt-get install pip\n",
    "pip install simpleaudio\n",
    "#apt-get install libav-tools libavcodec-extra\n",
    "\n",
    "####    OR    #####\n",
    "\n",
    "# ffmpeg\n",
    "#apt-get install ffmpeg libavcodec-extra"
   ]
  },
  {
   "cell_type": "code",
   "execution_count": null,
   "metadata": {
    "id": "ALavdcg66n09"
   },
   "outputs": [],
   "source": [
    "# Record Audio in Colab with Pydub\n",
    "# all imports\n",
    "from IPython.display import Javascript\n",
    "from google.colab import output\n",
    "from base64 import b64decode\n",
    "from io import BytesIO\n",
    "!pip -q install pydub\n",
    "from pydub import AudioSegment\n",
    "\n",
    "# Install playback function\n",
    "from pydub import AudioSegment\n",
    "from pydub.playback import play\n",
    "\n",
    "RECORD = \"\"\"\n",
    "const sleep  = time => new Promise(resolve => setTimeout(resolve, time))\n",
    "const b2text = blob => new Promise(resolve => {\n",
    "  const reader = new FileReader()\n",
    "  reader.onloadend = e => resolve(e.srcElement.result)\n",
    "  reader.readAsDataURL(blob)\n",
    "})\n",
    "var record = time => new Promise(async resolve => {\n",
    "  stream = await navigator.mediaDevices.getUserMedia({ audio: true })\n",
    "  recorder = new MediaRecorder(stream)\n",
    "  chunks = []\n",
    "  recorder.ondataavailable = e => chunks.push(e.data)\n",
    "  recorder.start()\n",
    "  await sleep(time)\n",
    "  recorder.onstop = async ()=>{\n",
    "    blob = new Blob(chunks)\n",
    "    text = await b2text(blob)\n",
    "    resolve(text)\n",
    "  }\n",
    "  recorder.stop()\n",
    "})\n",
    "\"\"\"\n",
    "\n",
    "# Record saves audio file of type pydub.audio_segment\n",
    "def record(sec=3):\n",
    "  display(Javascript(RECORD))\n",
    "  s = output.eval_js('record(%d)' % (sec*1000))\n",
    "  b = b64decode(s.split(',')[1])\n",
    "  audio = AudioSegment.from_file(BytesIO(b))\n",
    "  return audio"
   ]
  },
  {
   "cell_type": "code",
   "execution_count": null,
   "metadata": {
    "colab": {
     "base_uri": "https://localhost:8080/",
     "height": 345
    },
    "id": "XDZrOtrr6xHJ",
    "outputId": "94cd030c-22dd-4719-9f32-856419ea7da7"
   },
   "outputs": [],
   "source": [
    "# Record File\n",
    "myAudioFile = record(3)\n",
    "# Unfortunately AudioSegment is having trouble playing audio that came from BytesIO; we'll need to fix this later."
   ]
  },
  {
   "cell_type": "code",
   "execution_count": null,
   "metadata": {
    "id": "uWWNlDS0LUBS"
   },
   "outputs": [],
   "source": [
    "# Get whisper working\n",
    "\n",
    "\n",
    "# Install Whisper\n",
    "!pip install git+https://github.com/openai/whisper.git \n",
    "\n",
    "# Bring down test audio\n",
    "!pip install yt-dlp"
   ]
  },
  {
   "cell_type": "code",
   "execution_count": null,
   "metadata": {
    "colab": {
     "base_uri": "https://localhost:8080/"
    },
    "id": "thvrjG_dD0H7",
    "outputId": "8a23b598-8130-4cb4-fce5-be66ec07f47c"
   },
   "outputs": [],
   "source": [
    "!yt-dlp https://www.youtube.com/watch?v=esMEmqhErE0 --format m4a -o \"%(id)s.%(ext)s\""
   ]
  },
  {
   "cell_type": "code",
   "execution_count": null,
   "metadata": {
    "colab": {
     "base_uri": "https://localhost:8080/"
    },
    "id": "3yNrNMglE5Iq",
    "outputId": "f91a5a43-11d4-4b67-da49-2bd67007bfcc"
   },
   "outputs": [],
   "source": [
    "!whisper \"/content/esMEmqhErE0.m4a\" --model small --language English"
   ]
  },
  {
   "cell_type": "code",
   "execution_count": null,
   "metadata": {
    "id": "6NN9ToCOFNe5"
   },
   "outputs": [],
   "source": []
  },
  {
   "cell_type": "code",
   "execution_count": null,
   "metadata": {},
   "outputs": [],
   "source": []
  }
 ],
 "metadata": {
  "colab": {
   "provenance": []
  },
  "kernelspec": {
   "display_name": "Python 3 (ipykernel)",
   "language": "python",
   "name": "python3"
  },
  "language_info": {
   "name": "python"
  }
 },
 "nbformat": 4,
 "nbformat_minor": 1
}
