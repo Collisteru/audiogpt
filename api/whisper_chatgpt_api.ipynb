{
 "cells": [
  {
   "cell_type": "code",
   "execution_count": 1,
   "id": "c0836eca",
   "metadata": {},
   "outputs": [],
   "source": [
    "import os\n",
    "import openai\n",
    "from dotenv import load_dotenv"
   ]
  },
  {
   "cell_type": "code",
   "execution_count": 2,
   "id": "57769dab",
   "metadata": {},
   "outputs": [],
   "source": [
    "load_dotenv()\n",
    "openai.api_key = os.getenv('OPENAI_API_KEY')"
   ]
  },
  {
   "cell_type": "code",
   "execution_count": null,
   "id": "768b5e05",
   "metadata": {},
   "outputs": [],
   "source": []
  },
  {
   "cell_type": "code",
   "execution_count": null,
   "id": "ac67f617",
   "metadata": {},
   "outputs": [],
   "source": [
    "file = open(\"/path/to/file/openai.mp3\", \"rb\")\n",
    "transcription = openai.Audio.transcribe(\"whisper-1\", file)\n",
    "\n",
    "print(transcription)"
   ]
  },
  {
   "cell_type": "code",
   "execution_count": null,
   "id": "6a971087",
   "metadata": {},
   "outputs": [],
   "source": []
  },
  {
   "cell_type": "code",
   "execution_count": null,
   "id": "15a9ef7e",
   "metadata": {},
   "outputs": [],
   "source": []
  },
  {
   "cell_type": "code",
   "execution_count": null,
   "id": "cb212762",
   "metadata": {},
   "outputs": [],
   "source": []
  },
  {
   "cell_type": "code",
   "execution_count": 26,
   "id": "25048c7a",
   "metadata": {},
   "outputs": [
    {
     "name": "stdout",
     "output_type": "stream",
     "text": [
      "{\n",
      "  \"choices\": [\n",
      "    {\n",
      "      \"finish_reason\": \"stop\",\n",
      "      \"index\": 0,\n",
      "      \"message\": {\n",
      "        \"content\": \"\\n\\nArr, ChatGPT API, aye! Message sharin' 'n communications for yer crew!\",\n",
      "        \"role\": \"assistant\"\n",
      "      }\n",
      "    }\n",
      "  ],\n",
      "  \"created\": 1677971194,\n",
      "  \"id\": \"chatcmpl-6qVFSvrH9cVmpKpkpVLOyiNLk06z0\",\n",
      "  \"model\": \"gpt-3.5-turbo-0301\",\n",
      "  \"object\": \"chat.completion\",\n",
      "  \"usage\": {\n",
      "    \"completion_tokens\": 23,\n",
      "    \"prompt_tokens\": 31,\n",
      "    \"total_tokens\": 54\n",
      "  }\n",
      "}\n",
      "api cost: $0.000108\n"
     ]
    }
   ],
   "source": [
    "completion = openai.ChatCompletion.create(\n",
    "  model=\"gpt-3.5-turbo\", \n",
    "  messages=[{\"role\": \"user\", \"content\": \"Tell the world about the ChatGPT API in the style of a pirate. Write less than 10 tokens. \"}]\n",
    ")\n",
    "\n",
    "print(completion)\n",
    "total_toks = completion[\"usage\"][\"total_tokens\"]\n",
    "cost = (total_toks / 1000) * 0.002\n",
    "print(f\"api cost: ${cost}\")\n"
   ]
  },
  {
   "cell_type": "code",
   "execution_count": 33,
   "id": "f52970b9",
   "metadata": {},
   "outputs": [
    {
     "data": {
      "text/plain": [
       "\"\\n\\nArr, ChatGPT API, aye! Message sharin' 'n communications for yer crew!\""
      ]
     },
     "execution_count": 33,
     "metadata": {},
     "output_type": "execute_result"
    }
   ],
   "source": [
    "completion[\"choices\"][0][\"message\"][\"content\"]"
   ]
  },
  {
   "cell_type": "code",
   "execution_count": null,
   "id": "62a840b7",
   "metadata": {},
   "outputs": [],
   "source": []
  },
  {
   "cell_type": "code",
   "execution_count": null,
   "id": "a21a9c4d",
   "metadata": {},
   "outputs": [],
   "source": []
  },
  {
   "cell_type": "code",
   "execution_count": 3,
   "id": "80a7093e",
   "metadata": {},
   "outputs": [],
   "source": [
    "import wave"
   ]
  },
  {
   "cell_type": "code",
   "execution_count": 3,
   "id": "780391b4",
   "metadata": {},
   "outputs": [],
   "source": [
    "# we need to make this dynamic\n",
    "file = open(\"LJ025-0076.wav\", \"rb\")"
   ]
  },
  {
   "cell_type": "code",
   "execution_count": 43,
   "id": "0d4b2a43",
   "metadata": {},
   "outputs": [],
   "source": [
    "file_ext = file.name[len(file.name)-4:]\n",
    "valid_exts = [\".wav\", \".m4a\", \".mp3\"]\n",
    "assert file_ext in valid_exts, f\"Invalid file extension: {file_ext}\""
   ]
  },
  {
   "cell_type": "code",
   "execution_count": 4,
   "id": "a017a2ba",
   "metadata": {},
   "outputs": [
    {
     "name": "stdout",
     "output_type": "stream",
     "text": [
      "{\n",
      "  \"text\": \"Many animals, of even complex structure which live parasitically within others, are wholly devoid of an alimentary cavity.\"\n",
      "}\n"
     ]
    }
   ],
   "source": [
    "whisper_transcription = openai.Audio.transcribe(\"whisper-1\", file)\n",
    "\n",
    "print(whisper_transcription)"
   ]
  },
  {
   "cell_type": "code",
   "execution_count": 22,
   "id": "4c7f6f1f",
   "metadata": {},
   "outputs": [
    {
     "data": {
      "text/plain": [
       "'Many animals, of even complex structure which live parasitically within others, are wholly devoid of an alimentary cavity.'"
      ]
     },
     "execution_count": 22,
     "metadata": {},
     "output_type": "execute_result"
    }
   ],
   "source": [
    "whisper_text = whisper_transcription[\"text\"]\n",
    "whisper_text"
   ]
  },
  {
   "cell_type": "code",
   "execution_count": 23,
   "id": "6936d066",
   "metadata": {},
   "outputs": [],
   "source": [
    "from gtts import gTTS\n",
    "import os\n",
    "import playsound\n",
    "\n",
    "def speak(text):\n",
    "    tts = gTTS(text=text, lang='en')\n",
    "\n",
    "    filename = \"abc.mp3\"\n",
    "    tts.save(filename)\n",
    "    playsound.playsound(filename)\n",
    "    os.remove(filename)"
   ]
  },
  {
   "cell_type": "code",
   "execution_count": 24,
   "id": "435713ed",
   "metadata": {},
   "outputs": [],
   "source": [
    "speak(whisper_text)"
   ]
  },
  {
   "cell_type": "code",
   "execution_count": 11,
   "id": "c89aae07",
   "metadata": {},
   "outputs": [],
   "source": [
    "# from gtts import gTTS\n",
    "# from io import BytesIO\n",
    "# from pygame import mixer\n",
    "# import time\n",
    "\n",
    "# def speak(txt):\n",
    "#     mp3_fp = BytesIO()\n",
    "#     tts = gTTS(txt, lang='en')\n",
    "#     tts.write_to_fp(mp3_fp)\n",
    "#     return mp3_fp"
   ]
  },
  {
   "cell_type": "code",
   "execution_count": 19,
   "id": "20e8adc9",
   "metadata": {},
   "outputs": [],
   "source": [
    "# mixer.init()\n",
    "# sound = speak(whisper_transcription)\n",
    "# sound.seek(0)\n",
    "# mixer.music.load(sound, \"mp3\")\n",
    "# # mixer.music.play()\n",
    "# time.sleep(5)"
   ]
  },
  {
   "cell_type": "code",
   "execution_count": null,
   "id": "e30ce4e4",
   "metadata": {},
   "outputs": [],
   "source": []
  },
  {
   "cell_type": "code",
   "execution_count": 13,
   "id": "b7a36549",
   "metadata": {},
   "outputs": [],
   "source": [
    "# # text to audio\n",
    "# import gtts\n",
    "# from playsound import playsound"
   ]
  },
  {
   "cell_type": "code",
   "execution_count": 20,
   "id": "276ad25d",
   "metadata": {},
   "outputs": [],
   "source": [
    "\n",
    "# # make request to google to get synthesis\n",
    "# tts = gtts.gTTS(transcription)\n",
    "\n",
    "# # # save the audio file\n",
    "# # tts.save(\"gtts_output_ipynb.mp3\")\n",
    "\n",
    "# # # play the audio file\n",
    "# # playsound(\"gtts_output_ipynb.mp3\")\n",
    "# print(tts)"
   ]
  },
  {
   "cell_type": "code",
   "execution_count": 21,
   "id": "eb447664",
   "metadata": {},
   "outputs": [],
   "source": [
    "# # # save the audio file\n",
    "# tts.save(\"gtts_output_ipynb.mp3\")\n",
    "\n",
    "# # play the audio file\n",
    "# # playsound(\"gtts_output_ipynb.mp3\")"
   ]
  },
  {
   "cell_type": "code",
   "execution_count": null,
   "id": "22327ba3",
   "metadata": {},
   "outputs": [],
   "source": []
  }
 ],
 "metadata": {
  "kernelspec": {
   "display_name": "Python 3 (ipykernel)",
   "language": "python",
   "name": "python3"
  },
  "language_info": {
   "codemirror_mode": {
    "name": "ipython",
    "version": 3
   },
   "file_extension": ".py",
   "mimetype": "text/x-python",
   "name": "python",
   "nbconvert_exporter": "python",
   "pygments_lexer": "ipython3",
   "version": "3.9.13"
  }
 },
 "nbformat": 4,
 "nbformat_minor": 5
}
