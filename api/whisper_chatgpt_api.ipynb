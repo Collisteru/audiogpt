{
 "cells": [
  {
   "cell_type": "code",
   "execution_count": 1,
   "id": "60710d86",
   "metadata": {},
   "outputs": [],
   "source": [
    "import os\n",
    "import openai\n",
    "from dotenv import load_dotenv"
   ]
  },
  {
   "cell_type": "code",
   "execution_count": 2,
   "id": "e9e61f62",
   "metadata": {},
   "outputs": [],
   "source": [
    "load_dotenv()\n",
    "openai.api_key = os.getenv('OPENAI_API_KEY')"
   ]
  },
  {
   "cell_type": "code",
   "execution_count": null,
   "id": "372cf230",
   "metadata": {},
   "outputs": [],
   "source": []
  },
  {
   "cell_type": "code",
   "execution_count": null,
   "id": "deba26fb",
   "metadata": {},
   "outputs": [],
   "source": [
    "file = open(\"/path/to/file/openai.mp3\", \"rb\")\n",
    "transcription = openai.Audio.transcribe(\"whisper-1\", file)\n",
    "\n",
    "print(transcription)"
   ]
  },
  {
   "cell_type": "code",
   "execution_count": null,
   "id": "bb6f93c0",
   "metadata": {},
   "outputs": [],
   "source": []
  },
  {
   "cell_type": "code",
   "execution_count": null,
   "id": "c57f503d",
   "metadata": {},
   "outputs": [],
   "source": []
  },
  {
   "cell_type": "code",
   "execution_count": null,
   "id": "61fb0187",
   "metadata": {},
   "outputs": [],
   "source": []
  },
  {
   "cell_type": "code",
   "execution_count": 47,
   "id": "4ab852f6",
   "metadata": {},
   "outputs": [
    {
     "name": "stdout",
     "output_type": "stream",
     "text": [
      "{\n",
      "  \"choices\": [\n",
      "    {\n",
      "      \"finish_reason\": \"stop\",\n",
      "      \"index\": 0,\n",
      "      \"message\": {\n",
      "        \"content\": \"\\n\\n\\\"Arrr! Lend yer ears, mateys! The ChatGPT API be a treasure trove o' chatbot power to make yer website or app shine on the seven seas.\\\"\",\n",
      "        \"role\": \"assistant\"\n",
      "      }\n",
      "    }\n",
      "  ],\n",
      "  \"created\": 1677967860,\n",
      "  \"id\": \"chatcmpl-6qUNgaDxl57fu9wF0xE9w8s90QV1J\",\n",
      "  \"model\": \"gpt-3.5-turbo-0301\",\n",
      "  \"object\": \"chat.completion\",\n",
      "  \"usage\": {\n",
      "    \"completion_tokens\": 41,\n",
      "    \"prompt_tokens\": 31,\n",
      "    \"total_tokens\": 72\n",
      "  }\n",
      "}\n",
      "api cost: $0.000144\n"
     ]
    }
   ],
   "source": [
    "completion = openai.ChatCompletion.create(\n",
    "  model=\"gpt-3.5-turbo\", \n",
    "  messages=[{\"role\": \"user\", \"content\": \"Tell the world about the ChatGPT API in the style of a pirate. Write less than 10 tokens. \"}]\n",
    ")\n",
    "\n",
    "print(completion)\n",
    "total_toks = completion[\"usage\"][\"total_tokens\"]\n",
    "cost = (total_toks / 1000) * 0.002\n",
    "print(f\"api cost: ${cost}\")\n"
   ]
  },
  {
   "cell_type": "code",
   "execution_count": null,
   "id": "ab8953ec",
   "metadata": {},
   "outputs": [],
   "source": []
  },
  {
   "cell_type": "code",
   "execution_count": null,
   "id": "9ad362e7",
   "metadata": {},
   "outputs": [],
   "source": []
  },
  {
   "cell_type": "code",
   "execution_count": null,
   "id": "91498a4e",
   "metadata": {},
   "outputs": [],
   "source": []
  },
  {
   "cell_type": "code",
   "execution_count": 3,
   "id": "eee86507",
   "metadata": {},
   "outputs": [],
   "source": [
    "import wave"
   ]
  },
  {
   "cell_type": "code",
   "execution_count": 3,
   "id": "95c63e3a",
   "metadata": {},
   "outputs": [],
   "source": [
    "# we need to make this dynamic\n",
    "file = open(\"LJ025-0076.wav\", \"rb\")"
   ]
  },
  {
   "cell_type": "code",
   "execution_count": 4,
   "id": "4b0f2c61",
   "metadata": {},
   "outputs": [
    {
     "name": "stdout",
     "output_type": "stream",
     "text": [
      "{\n",
      "  \"text\": \"Many animals, of even complex structure which live parasitically within others, are wholly devoid of an alimentary cavity.\"\n",
      "}\n"
     ]
    }
   ],
   "source": [
    "whisper_transcription = openai.Audio.transcribe(\"whisper-1\", file)\n",
    "\n",
    "print(whisper_transcription)"
   ]
  },
  {
   "cell_type": "code",
   "execution_count": 22,
   "id": "b19e3948",
   "metadata": {},
   "outputs": [
    {
     "data": {
      "text/plain": [
       "'Many animals, of even complex structure which live parasitically within others, are wholly devoid of an alimentary cavity.'"
      ]
     },
     "execution_count": 22,
     "metadata": {},
     "output_type": "execute_result"
    }
   ],
   "source": [
    "whisper_text = whisper_transcription[\"text\"]\n",
    "whisper_text"
   ]
  },
  {
   "cell_type": "code",
   "execution_count": 23,
   "id": "be503b96",
   "metadata": {},
   "outputs": [],
   "source": [
    "from gtts import gTTS\n",
    "import os\n",
    "import playsound\n",
    "\n",
    "def speak(text):\n",
    "    tts = gTTS(text=text, lang='en')\n",
    "\n",
    "    filename = \"abc.mp3\"\n",
    "    tts.save(filename)\n",
    "    playsound.playsound(filename)\n",
    "    os.remove(filename)"
   ]
  },
  {
   "cell_type": "code",
   "execution_count": 24,
   "id": "125880c0",
   "metadata": {},
   "outputs": [],
   "source": [
    "speak(whisper_text)"
   ]
  },
  {
   "cell_type": "code",
   "execution_count": 11,
   "id": "7e1b7854",
   "metadata": {},
   "outputs": [],
   "source": [
    "# from gtts import gTTS\n",
    "# from io import BytesIO\n",
    "# from pygame import mixer\n",
    "# import time\n",
    "\n",
    "# def speak(txt):\n",
    "#     mp3_fp = BytesIO()\n",
    "#     tts = gTTS(txt, lang='en')\n",
    "#     tts.write_to_fp(mp3_fp)\n",
    "#     return mp3_fp"
   ]
  },
  {
   "cell_type": "code",
   "execution_count": 19,
   "id": "edebb5f0",
   "metadata": {},
   "outputs": [],
   "source": [
    "# mixer.init()\n",
    "# sound = speak(whisper_transcription)\n",
    "# sound.seek(0)\n",
    "# mixer.music.load(sound, \"mp3\")\n",
    "# # mixer.music.play()\n",
    "# time.sleep(5)"
   ]
  },
  {
   "cell_type": "code",
   "execution_count": null,
   "id": "a4a61ff9",
   "metadata": {},
   "outputs": [],
   "source": []
  },
  {
   "cell_type": "code",
   "execution_count": 13,
   "id": "db557831",
   "metadata": {},
   "outputs": [],
   "source": [
    "# # text to audio\n",
    "# import gtts\n",
    "# from playsound import playsound"
   ]
  },
  {
   "cell_type": "code",
   "execution_count": 20,
   "id": "ad0fff30",
   "metadata": {},
   "outputs": [],
   "source": [
    "\n",
    "# # make request to google to get synthesis\n",
    "# tts = gtts.gTTS(transcription)\n",
    "\n",
    "# # # save the audio file\n",
    "# # tts.save(\"gtts_output_ipynb.mp3\")\n",
    "\n",
    "# # # play the audio file\n",
    "# # playsound(\"gtts_output_ipynb.mp3\")\n",
    "# print(tts)"
   ]
  },
  {
   "cell_type": "code",
   "execution_count": 21,
   "id": "878d0a7b",
   "metadata": {},
   "outputs": [],
   "source": [
    "# # # save the audio file\n",
    "# tts.save(\"gtts_output_ipynb.mp3\")\n",
    "\n",
    "# # play the audio file\n",
    "# # playsound(\"gtts_output_ipynb.mp3\")"
   ]
  },
  {
   "cell_type": "code",
   "execution_count": null,
   "id": "f660e694",
   "metadata": {},
   "outputs": [],
   "source": []
  }
 ],
 "metadata": {
  "kernelspec": {
   "display_name": "Python 3 (ipykernel)",
   "language": "python",
   "name": "python3"
  },
  "language_info": {
   "codemirror_mode": {
    "name": "ipython",
    "version": 3
   },
   "file_extension": ".py",
   "mimetype": "text/x-python",
   "name": "python",
   "nbconvert_exporter": "python",
   "pygments_lexer": "ipython3",
   "version": "3.9.13"
  }
 },
 "nbformat": 4,
 "nbformat_minor": 5
}
